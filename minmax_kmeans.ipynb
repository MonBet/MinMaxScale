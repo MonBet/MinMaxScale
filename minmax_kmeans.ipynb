{
 "cells": [
  {
   "cell_type": "markdown",
   "metadata": {},
   "source": [
    "<font size=\"5\"><b>Import Library</b></font>"
   ]
  },
  {
   "cell_type": "code",
   "execution_count": 22,
   "metadata": {},
   "outputs": [],
   "source": [
    "import time\n",
    "import matplotlib.pyplot as plt\n",
    "import numpy as np\n",
    "import pandas as pd\n",
    "import sklearn.metrics as sm\n",
    "import seaborn as sns\n",
    "\n",
    "from pandas.plotting import scatter_matrix\n",
    "\n",
    "from scipy.stats import pearsonr\n",
    "from scipy.stats import spearmanr\n",
    "\n",
    "from sklearn.model_selection import train_test_split\n",
    "from sklearn.cluster import KMeans\n",
    "from sklearn import datasets\n",
    "from sklearn.preprocessing import MinMaxScaler\n",
    "\n",
    "from sklearn.cluster import SpectralClustering\n",
    "from sklearn.metrics import silhouette_score\n",
    "from sklearn.metrics import v_measure_score\n",
    "from pandas.plotting import scatter_matrix\n",
    "\n",
    "from sklearn.metrics import confusion_matrix, classification_report"
   ]
  },
  {
   "cell_type": "markdown",
   "metadata": {},
   "source": [
    "<font size=\"5\"><b>Import Data</b></font>"
   ]
  },
  {
   "cell_type": "code",
   "execution_count": 104,
   "metadata": {},
   "outputs": [],
   "source": [
    "df = pd.read_csv('dataset/nilaisd.csv')\n",
    "dfx = pd.read_csv('dataset/nilaisd.csv')"
   ]
  },
  {
   "cell_type": "code",
   "execution_count": 107,
   "metadata": {},
   "outputs": [
    {
     "name": "stdout",
     "output_type": "stream",
     "text": [
      "Durasi 0.0141244 detik\n"
     ]
    }
   ],
   "source": [
    "start_time = time.time()\n",
    "\n",
    "scaler = MinMaxScaler(feature_range=(0, 1))\n",
    "scaler.fit(dfx.iloc[:,:12])\n",
    "dfx.iloc[:,:12] = scaler.transform(dfx.iloc[:,:12])\n",
    "\n",
    "end_time = time.time()\n",
    "print(\"Durasi %g detik\" % (end_time - start_time))"
   ]
  },
  {
   "cell_type": "code",
   "execution_count": 108,
   "metadata": {},
   "outputs": [
    {
     "data": {
      "text/html": [
       "<div>\n",
       "<style scoped>\n",
       "    .dataframe tbody tr th:only-of-type {\n",
       "        vertical-align: middle;\n",
       "    }\n",
       "\n",
       "    .dataframe tbody tr th {\n",
       "        vertical-align: top;\n",
       "    }\n",
       "\n",
       "    .dataframe thead th {\n",
       "        text-align: right;\n",
       "    }\n",
       "</style>\n",
       "<table border=\"1\" class=\"dataframe\">\n",
       "  <thead>\n",
       "    <tr style=\"text-align: right;\">\n",
       "      <th></th>\n",
       "      <th>no_urut</th>\n",
       "      <th>pai</th>\n",
       "      <th>ppkn</th>\n",
       "      <th>bindo</th>\n",
       "      <th>mtk</th>\n",
       "      <th>ipa</th>\n",
       "      <th>ips</th>\n",
       "      <th>sbdp</th>\n",
       "      <th>pjok</th>\n",
       "      <th>bta</th>\n",
       "      <th>bdaerah</th>\n",
       "      <th>bing</th>\n",
       "      <th>jumlah</th>\n",
       "      <th>ratarata</th>\n",
       "    </tr>\n",
       "  </thead>\n",
       "  <tbody>\n",
       "    <tr>\n",
       "      <td>0</td>\n",
       "      <td>1</td>\n",
       "      <td>57.5</td>\n",
       "      <td>80</td>\n",
       "      <td>80</td>\n",
       "      <td>48</td>\n",
       "      <td>80</td>\n",
       "      <td>87</td>\n",
       "      <td>43</td>\n",
       "      <td>67</td>\n",
       "      <td>56.0</td>\n",
       "      <td>30</td>\n",
       "      <td>64</td>\n",
       "      <td>692.5</td>\n",
       "      <td>62.95</td>\n",
       "    </tr>\n",
       "    <tr>\n",
       "      <td>1</td>\n",
       "      <td>2</td>\n",
       "      <td>67.5</td>\n",
       "      <td>90</td>\n",
       "      <td>77</td>\n",
       "      <td>84</td>\n",
       "      <td>90</td>\n",
       "      <td>90</td>\n",
       "      <td>73</td>\n",
       "      <td>70</td>\n",
       "      <td>84.0</td>\n",
       "      <td>77</td>\n",
       "      <td>76</td>\n",
       "      <td>878.5</td>\n",
       "      <td>79.86</td>\n",
       "    </tr>\n",
       "    <tr>\n",
       "      <td>2</td>\n",
       "      <td>3</td>\n",
       "      <td>70.0</td>\n",
       "      <td>77</td>\n",
       "      <td>83</td>\n",
       "      <td>72</td>\n",
       "      <td>77</td>\n",
       "      <td>83</td>\n",
       "      <td>70</td>\n",
       "      <td>60</td>\n",
       "      <td>97.5</td>\n",
       "      <td>83</td>\n",
       "      <td>84</td>\n",
       "      <td>856.5</td>\n",
       "      <td>77.86</td>\n",
       "    </tr>\n",
       "    <tr>\n",
       "      <td>3</td>\n",
       "      <td>4</td>\n",
       "      <td>72.5</td>\n",
       "      <td>90</td>\n",
       "      <td>80</td>\n",
       "      <td>76</td>\n",
       "      <td>90</td>\n",
       "      <td>83</td>\n",
       "      <td>87</td>\n",
       "      <td>67</td>\n",
       "      <td>68.0</td>\n",
       "      <td>83</td>\n",
       "      <td>80</td>\n",
       "      <td>876.5</td>\n",
       "      <td>79.68</td>\n",
       "    </tr>\n",
       "    <tr>\n",
       "      <td>4</td>\n",
       "      <td>5</td>\n",
       "      <td>52.5</td>\n",
       "      <td>83</td>\n",
       "      <td>73</td>\n",
       "      <td>56</td>\n",
       "      <td>77</td>\n",
       "      <td>77</td>\n",
       "      <td>50</td>\n",
       "      <td>74</td>\n",
       "      <td>44.0</td>\n",
       "      <td>87</td>\n",
       "      <td>56</td>\n",
       "      <td>729.5</td>\n",
       "      <td>66.32</td>\n",
       "    </tr>\n",
       "  </tbody>\n",
       "</table>\n",
       "</div>"
      ],
      "text/plain": [
       "   no_urut   pai  ppkn  bindo  mtk  ipa  ips  sbdp  pjok   bta  bdaerah  bing  \\\n",
       "0        1  57.5    80     80   48   80   87    43    67  56.0       30    64   \n",
       "1        2  67.5    90     77   84   90   90    73    70  84.0       77    76   \n",
       "2        3  70.0    77     83   72   77   83    70    60  97.5       83    84   \n",
       "3        4  72.5    90     80   76   90   83    87    67  68.0       83    80   \n",
       "4        5  52.5    83     73   56   77   77    50    74  44.0       87    56   \n",
       "\n",
       "   jumlah  ratarata  \n",
       "0   692.5     62.95  \n",
       "1   878.5     79.86  \n",
       "2   856.5     77.86  \n",
       "3   876.5     79.68  \n",
       "4   729.5     66.32  "
      ]
     },
     "execution_count": 108,
     "metadata": {},
     "output_type": "execute_result"
    }
   ],
   "source": [
    "df.head()"
   ]
  },
  {
   "cell_type": "code",
   "execution_count": 109,
   "metadata": {},
   "outputs": [
    {
     "data": {
      "text/html": [
       "<div>\n",
       "<style scoped>\n",
       "    .dataframe tbody tr th:only-of-type {\n",
       "        vertical-align: middle;\n",
       "    }\n",
       "\n",
       "    .dataframe tbody tr th {\n",
       "        vertical-align: top;\n",
       "    }\n",
       "\n",
       "    .dataframe thead th {\n",
       "        text-align: right;\n",
       "    }\n",
       "</style>\n",
       "<table border=\"1\" class=\"dataframe\">\n",
       "  <thead>\n",
       "    <tr style=\"text-align: right;\">\n",
       "      <th></th>\n",
       "      <th>no_urut</th>\n",
       "      <th>pai</th>\n",
       "      <th>ppkn</th>\n",
       "      <th>bindo</th>\n",
       "      <th>mtk</th>\n",
       "      <th>ipa</th>\n",
       "      <th>ips</th>\n",
       "      <th>sbdp</th>\n",
       "      <th>pjok</th>\n",
       "      <th>bta</th>\n",
       "      <th>bdaerah</th>\n",
       "      <th>bing</th>\n",
       "      <th>jumlah</th>\n",
       "      <th>ratarata</th>\n",
       "    </tr>\n",
       "  </thead>\n",
       "  <tbody>\n",
       "    <tr>\n",
       "      <td>0</td>\n",
       "      <td>0.000000</td>\n",
       "      <td>0.484848</td>\n",
       "      <td>0.60</td>\n",
       "      <td>0.666667</td>\n",
       "      <td>0.223881</td>\n",
       "      <td>0.682540</td>\n",
       "      <td>0.821918</td>\n",
       "      <td>0.219178</td>\n",
       "      <td>0.569231</td>\n",
       "      <td>0.476190</td>\n",
       "      <td>0.213483</td>\n",
       "      <td>0.64</td>\n",
       "      <td>692.5</td>\n",
       "      <td>0.515507</td>\n",
       "    </tr>\n",
       "    <tr>\n",
       "      <td>1</td>\n",
       "      <td>0.011628</td>\n",
       "      <td>0.606061</td>\n",
       "      <td>0.80</td>\n",
       "      <td>0.616667</td>\n",
       "      <td>0.761194</td>\n",
       "      <td>0.841270</td>\n",
       "      <td>0.863014</td>\n",
       "      <td>0.630137</td>\n",
       "      <td>0.615385</td>\n",
       "      <td>0.809524</td>\n",
       "      <td>0.741573</td>\n",
       "      <td>0.76</td>\n",
       "      <td>878.5</td>\n",
       "      <td>0.820411</td>\n",
       "    </tr>\n",
       "    <tr>\n",
       "      <td>2</td>\n",
       "      <td>0.023256</td>\n",
       "      <td>0.636364</td>\n",
       "      <td>0.54</td>\n",
       "      <td>0.716667</td>\n",
       "      <td>0.582090</td>\n",
       "      <td>0.634921</td>\n",
       "      <td>0.767123</td>\n",
       "      <td>0.589041</td>\n",
       "      <td>0.461538</td>\n",
       "      <td>0.970238</td>\n",
       "      <td>0.808989</td>\n",
       "      <td>0.84</td>\n",
       "      <td>856.5</td>\n",
       "      <td>0.784349</td>\n",
       "    </tr>\n",
       "    <tr>\n",
       "      <td>3</td>\n",
       "      <td>0.034884</td>\n",
       "      <td>0.666667</td>\n",
       "      <td>0.80</td>\n",
       "      <td>0.666667</td>\n",
       "      <td>0.641791</td>\n",
       "      <td>0.841270</td>\n",
       "      <td>0.767123</td>\n",
       "      <td>0.821918</td>\n",
       "      <td>0.569231</td>\n",
       "      <td>0.619048</td>\n",
       "      <td>0.808989</td>\n",
       "      <td>0.80</td>\n",
       "      <td>876.5</td>\n",
       "      <td>0.817166</td>\n",
       "    </tr>\n",
       "    <tr>\n",
       "      <td>4</td>\n",
       "      <td>0.046512</td>\n",
       "      <td>0.424242</td>\n",
       "      <td>0.66</td>\n",
       "      <td>0.550000</td>\n",
       "      <td>0.343284</td>\n",
       "      <td>0.634921</td>\n",
       "      <td>0.684932</td>\n",
       "      <td>0.315068</td>\n",
       "      <td>0.676923</td>\n",
       "      <td>0.333333</td>\n",
       "      <td>0.853933</td>\n",
       "      <td>0.56</td>\n",
       "      <td>729.5</td>\n",
       "      <td>0.576271</td>\n",
       "    </tr>\n",
       "  </tbody>\n",
       "</table>\n",
       "</div>"
      ],
      "text/plain": [
       "    no_urut       pai  ppkn     bindo       mtk       ipa       ips      sbdp  \\\n",
       "0  0.000000  0.484848  0.60  0.666667  0.223881  0.682540  0.821918  0.219178   \n",
       "1  0.011628  0.606061  0.80  0.616667  0.761194  0.841270  0.863014  0.630137   \n",
       "2  0.023256  0.636364  0.54  0.716667  0.582090  0.634921  0.767123  0.589041   \n",
       "3  0.034884  0.666667  0.80  0.666667  0.641791  0.841270  0.767123  0.821918   \n",
       "4  0.046512  0.424242  0.66  0.550000  0.343284  0.634921  0.684932  0.315068   \n",
       "\n",
       "       pjok       bta   bdaerah  bing  jumlah  ratarata  \n",
       "0  0.569231  0.476190  0.213483  0.64   692.5  0.515507  \n",
       "1  0.615385  0.809524  0.741573  0.76   878.5  0.820411  \n",
       "2  0.461538  0.970238  0.808989  0.84   856.5  0.784349  \n",
       "3  0.569231  0.619048  0.808989  0.80   876.5  0.817166  \n",
       "4  0.676923  0.333333  0.853933  0.56   729.5  0.576271  "
      ]
     },
     "execution_count": 109,
     "metadata": {},
     "output_type": "execute_result"
    }
   ],
   "source": [
    "dfx.head()"
   ]
  },
  {
   "cell_type": "markdown",
   "metadata": {},
   "source": [
    "<font size=\"5\"><b>Correlation</b></font>"
   ]
  },
  {
   "cell_type": "code",
   "execution_count": 110,
   "metadata": {},
   "outputs": [],
   "source": [
    "#df.corr()"
   ]
  },
  {
   "cell_type": "code",
   "execution_count": 111,
   "metadata": {},
   "outputs": [],
   "source": [
    "#sns.heatmap(df.corr())"
   ]
  },
  {
   "cell_type": "code",
   "execution_count": 112,
   "metadata": {},
   "outputs": [],
   "source": [
    "#scatter_matrix(df)"
   ]
  },
  {
   "cell_type": "code",
   "execution_count": 113,
   "metadata": {},
   "outputs": [],
   "source": [
    "#plt.scatter(df.bing, df.ratarata)"
   ]
  },
  {
   "cell_type": "markdown",
   "metadata": {},
   "source": [
    "<font size=\"5\"><b>Elbow Curve</b></font>"
   ]
  },
  {
   "cell_type": "code",
   "execution_count": 114,
   "metadata": {},
   "outputs": [
    {
     "data": {
      "text/plain": [
       "Text(0.5, 1.0, 'Elbow curve')"
      ]
     },
     "execution_count": 114,
     "metadata": {},
     "output_type": "execute_result"
    },
    {
     "data": {
      "image/png": "[encoded data removed]",
      "text/plain": [
       "<Figure size 1080x360 with 1 Axes>"
      ]
     },
     "metadata": {
      "needs_background": "light"
     },
     "output_type": "display_data"
    }
   ],
   "source": [
    "#N cluster optimal adalah 2\n",
    "#Metode untuk mencari nilai N yang cocok untuk suatu dataset\n",
    "distorsions = []\n",
    "for k in range(1, 5):\n",
    "    kmeans = KMeans(n_clusters=k)\n",
    "    kmeans.fit(df)\n",
    "    distorsions.append(kmeans.inertia_)\n",
    "\n",
    "fig = plt.figure(figsize=(15, 5))\n",
    "plt.plot(range(1, 5), distorsions)\n",
    "plt.grid(True)\n",
    "plt.title('Elbow curve')"
   ]
  },
  {
   "cell_type": "code",
   "execution_count": 116,
   "metadata": {},
   "outputs": [],
   "source": [
    "X = df[['ratarata','bing']]\n",
    "X_ = dfx[['ratarata','bing']]"
   ]
  },
  {
   "cell_type": "markdown",
   "metadata": {},
   "source": [
    "<font size=\"5\"><b>Model K-Means</b></font>"
   ]
  },
  {
   "cell_type": "code",
   "execution_count": 119,
   "metadata": {},
   "outputs": [
    {
     "data": {
      "text/plain": [
       "KMeans(algorithm='auto', copy_x=True, init='random', max_iter=300, n_clusters=2,\n",
       "       n_init=10, n_jobs=None, precompute_distances='auto', random_state=None,\n",
       "       tol=0.0001, verbose=0)"
      ]
     },
     "execution_count": 119,
     "metadata": {},
     "output_type": "execute_result"
    }
   ],
   "source": [
    "#Random KMeans, normal data\n",
    "clustering = KMeans(n_clusters=2, init='random',random_state = None, max_iter=300)\n",
    "clustering.fit(df)"
   ]
  },
  {
   "cell_type": "code",
   "execution_count": 120,
   "metadata": {},
   "outputs": [
    {
     "data": {
      "text/plain": [
       "KMeans(algorithm='auto', copy_x=True, init='k-means++', max_iter=300,\n",
       "       n_clusters=2, n_init=10, n_jobs=None, precompute_distances='auto',\n",
       "       random_state=None, tol=0.0001, verbose=0)"
      ]
     },
     "execution_count": 120,
     "metadata": {},
     "output_type": "execute_result"
    }
   ],
   "source": [
    "#Random KMeans, scaled data\n",
    "clustering2 = KMeans(n_clusters=2, init='k-means++',random_state = None,max_iter=300)\n",
    "clustering2.fit(dfx)"
   ]
  },
  {
   "cell_type": "code",
   "execution_count": 121,
   "metadata": {},
   "outputs": [],
   "source": [
    "y_kmeans = clustering.predict(df)"
   ]
  },
  {
   "cell_type": "code",
   "execution_count": 122,
   "metadata": {},
   "outputs": [],
   "source": [
    "y_kmeans2 = clustering2.predict(dfx)"
   ]
  },
  {
   "cell_type": "code",
   "execution_count": 123,
   "metadata": {},
   "outputs": [
    {
     "data": {
      "text/html": [
       "<div>\n",
       "<style scoped>\n",
       "    .dataframe tbody tr th:only-of-type {\n",
       "        vertical-align: middle;\n",
       "    }\n",
       "\n",
       "    .dataframe tbody tr th {\n",
       "        vertical-align: top;\n",
       "    }\n",
       "\n",
       "    .dataframe thead th {\n",
       "        text-align: right;\n",
       "    }\n",
       "</style>\n",
       "<table border=\"1\" class=\"dataframe\">\n",
       "  <thead>\n",
       "    <tr style=\"text-align: right;\">\n",
       "      <th></th>\n",
       "      <th>0</th>\n",
       "      <th>1</th>\n",
       "      <th>2</th>\n",
       "      <th>3</th>\n",
       "      <th>4</th>\n",
       "      <th>5</th>\n",
       "      <th>6</th>\n",
       "      <th>7</th>\n",
       "      <th>8</th>\n",
       "      <th>9</th>\n",
       "      <th>10</th>\n",
       "      <th>11</th>\n",
       "      <th>12</th>\n",
       "      <th>13</th>\n",
       "    </tr>\n",
       "  </thead>\n",
       "  <tbody>\n",
       "    <tr>\n",
       "      <td>0</td>\n",
       "      <td>45.295082</td>\n",
       "      <td>80.475410</td>\n",
       "      <td>83.557377</td>\n",
       "      <td>78.622951</td>\n",
       "      <td>73.147541</td>\n",
       "      <td>83.721311</td>\n",
       "      <td>79.590164</td>\n",
       "      <td>73.819672</td>\n",
       "      <td>74.098361</td>\n",
       "      <td>80.073770</td>\n",
       "      <td>80.049180</td>\n",
       "      <td>74.409836</td>\n",
       "      <td>861.565574</td>\n",
       "      <td>78.323607</td>\n",
       "    </tr>\n",
       "    <tr>\n",
       "      <td>1</td>\n",
       "      <td>40.961538</td>\n",
       "      <td>54.132308</td>\n",
       "      <td>73.576923</td>\n",
       "      <td>63.192308</td>\n",
       "      <td>55.769231</td>\n",
       "      <td>64.230769</td>\n",
       "      <td>62.884615</td>\n",
       "      <td>53.230769</td>\n",
       "      <td>53.961538</td>\n",
       "      <td>51.947308</td>\n",
       "      <td>54.730769</td>\n",
       "      <td>49.653846</td>\n",
       "      <td>637.310385</td>\n",
       "      <td>57.937308</td>\n",
       "    </tr>\n",
       "  </tbody>\n",
       "</table>\n",
       "</div>"
      ],
      "text/plain": [
       "           0          1          2          3          4          5  \\\n",
       "0  45.295082  80.475410  83.557377  78.622951  73.147541  83.721311   \n",
       "1  40.961538  54.132308  73.576923  63.192308  55.769231  64.230769   \n",
       "\n",
       "           6          7          8          9         10         11  \\\n",
       "0  79.590164  73.819672  74.098361  80.073770  80.049180  74.409836   \n",
       "1  62.884615  53.230769  53.961538  51.947308  54.730769  49.653846   \n",
       "\n",
       "           12         13  \n",
       "0  861.565574  78.323607  \n",
       "1  637.310385  57.937308  "
      ]
     },
     "execution_count": 123,
     "metadata": {},
     "output_type": "execute_result"
    }
   ],
   "source": [
    "pd.DataFrame(clustering.cluster_centers_)"
   ]
  },
  {
   "cell_type": "code",
   "execution_count": 124,
   "metadata": {},
   "outputs": [
    {
     "data": {
      "text/html": [
       "<div>\n",
       "<style scoped>\n",
       "    .dataframe tbody tr th:only-of-type {\n",
       "        vertical-align: middle;\n",
       "    }\n",
       "\n",
       "    .dataframe tbody tr th {\n",
       "        vertical-align: top;\n",
       "    }\n",
       "\n",
       "    .dataframe thead th {\n",
       "        text-align: right;\n",
       "    }\n",
       "</style>\n",
       "<table border=\"1\" class=\"dataframe\">\n",
       "  <thead>\n",
       "    <tr style=\"text-align: right;\">\n",
       "      <th></th>\n",
       "      <th>0</th>\n",
       "      <th>1</th>\n",
       "      <th>2</th>\n",
       "      <th>3</th>\n",
       "      <th>4</th>\n",
       "      <th>5</th>\n",
       "      <th>6</th>\n",
       "      <th>7</th>\n",
       "      <th>8</th>\n",
       "      <th>9</th>\n",
       "      <th>10</th>\n",
       "      <th>11</th>\n",
       "      <th>12</th>\n",
       "      <th>13</th>\n",
       "    </tr>\n",
       "  </thead>\n",
       "  <tbody>\n",
       "    <tr>\n",
       "      <td>0</td>\n",
       "      <td>0.515059</td>\n",
       "      <td>0.763338</td>\n",
       "      <td>0.671148</td>\n",
       "      <td>0.643716</td>\n",
       "      <td>0.599217</td>\n",
       "      <td>0.741608</td>\n",
       "      <td>0.720413</td>\n",
       "      <td>0.641365</td>\n",
       "      <td>0.678436</td>\n",
       "      <td>0.762783</td>\n",
       "      <td>0.775833</td>\n",
       "      <td>0.744098</td>\n",
       "      <td>861.565574</td>\n",
       "      <td>0.792708</td>\n",
       "    </tr>\n",
       "    <tr>\n",
       "      <td>1</td>\n",
       "      <td>0.464669</td>\n",
       "      <td>0.444028</td>\n",
       "      <td>0.471538</td>\n",
       "      <td>0.386538</td>\n",
       "      <td>0.339839</td>\n",
       "      <td>0.432234</td>\n",
       "      <td>0.491570</td>\n",
       "      <td>0.359326</td>\n",
       "      <td>0.368639</td>\n",
       "      <td>0.427944</td>\n",
       "      <td>0.491357</td>\n",
       "      <td>0.496538</td>\n",
       "      <td>637.310385</td>\n",
       "      <td>0.425123</td>\n",
       "    </tr>\n",
       "  </tbody>\n",
       "</table>\n",
       "</div>"
      ],
      "text/plain": [
       "          0         1         2         3         4         5         6  \\\n",
       "0  0.515059  0.763338  0.671148  0.643716  0.599217  0.741608  0.720413   \n",
       "1  0.464669  0.444028  0.471538  0.386538  0.339839  0.432234  0.491570   \n",
       "\n",
       "          7         8         9        10        11          12        13  \n",
       "0  0.641365  0.678436  0.762783  0.775833  0.744098  861.565574  0.792708  \n",
       "1  0.359326  0.368639  0.427944  0.491357  0.496538  637.310385  0.425123  "
      ]
     },
     "execution_count": 124,
     "metadata": {},
     "output_type": "execute_result"
    }
   ],
   "source": [
    "pd.DataFrame(clustering2.cluster_centers_)"
   ]
  },
  {
   "cell_type": "code",
   "execution_count": 125,
   "metadata": {},
   "outputs": [
    {
     "data": {
      "text/plain": [
       "691582.3918173392"
      ]
     },
     "execution_count": 125,
     "metadata": {},
     "output_type": "execute_result"
    }
   ],
   "source": [
    "clustering.inertia_"
   ]
  },
  {
   "cell_type": "markdown",
   "metadata": {},
   "source": [
    "<font size=\"5\"><b>Plotting Data</b></font>"
   ]
  },
  {
   "cell_type": "code",
   "execution_count": 143,
   "metadata": {},
   "outputs": [
    {
     "name": "stdout",
     "output_type": "stream",
     "text": [
      "Unscaled data\n"
     ]
    },
    {
     "data": {
      "image/png": "[encoded data removed]",
      "text/plain": [
       "<Figure size 432x288 with 2 Axes>"
      ]
     },
     "metadata": {
      "needs_background": "light"
     },
     "output_type": "display_data"
    }
   ],
   "source": [
    "print(\"Unscaled data\")\n",
    "plt.subplot(1,2,1)\n",
    "plt.scatter(X.ratarata, X.bing, c=df.jumlah, s=50, cmap='viridis')\n",
    "plt.xlabel('ratarata')\n",
    "plt.ylabel('bing')\n",
    "plt.title('raw')\n",
    "\n",
    "plt.subplot(1,2,2)\n",
    "plt.scatter(X.ratarata, X.bing, c=clustering.labels_, s=50, cmap='viridis')\n",
    "plt.title('random kmeans')\n",
    "\n",
    "centers = clustering.cluster_centers_\n",
    "plt.scatter(centers[:,13], centers[:,11], c='red', s=200, alpha=0.5)\n",
    "plt.show()"
   ]
  },
  {
   "cell_type": "code",
   "execution_count": 144,
   "metadata": {},
   "outputs": [
    {
     "name": "stdout",
     "output_type": "stream",
     "text": [
      "Scaled Data\n"
     ]
    },
    {
     "data": {
      "image/png": "[encoded data removed]",
      "text/plain": [
       "<Figure size 432x288 with 2 Axes>"
      ]
     },
     "metadata": {
      "needs_background": "light"
     },
     "output_type": "display_data"
    }
   ],
   "source": [
    "print(\"Scaled Data\")\n",
    "plt.subplot(1,2,1)\n",
    "plt.scatter(X_.ratarata, X_.bing, c=dfx.jumlah, s=50, cmap='viridis')\n",
    "plt.xlabel('ratarata')\n",
    "plt.ylabel('bing')\n",
    "plt.title('raw')\n",
    "\n",
    "plt.subplot(1,2,2)\n",
    "plt.scatter(X_.ratarata, X_.bing, c=clustering2.labels_, s=50, cmap='viridis')\n",
    "plt.title('random kmeans')\n",
    "\n",
    "centers2 = clustering2.cluster_centers_\n",
    "plt.scatter(centers2[:,11], centers2[:,13], c='red', s=200, alpha=0.5)\n",
    "plt.show()"
   ]
  },
  {
   "cell_type": "markdown",
   "metadata": {},
   "source": [
    "<font size=\"5\"><b>Silhouette Score</b></font>"
   ]
  },
  {
   "cell_type": "code",
   "execution_count": 145,
   "metadata": {},
   "outputs": [
    {
     "name": "stdout",
     "output_type": "stream",
     "text": [
      "Silhouette Score Unscaled:  0.4468538736218539\n",
      "Silhouette Score Scaled:  0.49915555203191\n"
     ]
    }
   ],
   "source": [
    "print(\"Silhouette Score Unscaled: \", sm.silhouette_score(X, clustering.labels_, metric='euclidean',sample_size=300))\n",
    "print(\"Silhouette Score Scaled: \", sm.silhouette_score(X_, clustering2.labels_, metric='euclidean',sample_size=300))"
   ]
  },
  {
   "cell_type": "code",
   "execution_count": 146,
   "metadata": {},
   "outputs": [
    {
     "name": "stdout",
     "output_type": "stream",
     "text": [
      "61 26\n"
     ]
    }
   ],
   "source": [
    "#Perbedaan jumlah cluster pada Kmeans++ dan Random\n",
    "cl1 = clustering.labels_\n",
    "zero = 0\n",
    "one = 0\n",
    "for i in cl1:\n",
    "    if i==1:\n",
    "        one+=1\n",
    "    else:\n",
    "        zero+=1\n",
    "\n",
    "print(zero, one)"
   ]
  },
  {
   "cell_type": "code",
   "execution_count": 147,
   "metadata": {},
   "outputs": [
    {
     "name": "stdout",
     "output_type": "stream",
     "text": [
      "61 26\n"
     ]
    }
   ],
   "source": [
    "cl2 = clustering2.labels_\n",
    "zero2 = 0\n",
    "one2 = 0\n",
    "for i in cl2:\n",
    "    if i==1:\n",
    "        one2+=1\n",
    "    else:\n",
    "        zero2+=1\n",
    "\n",
    "print(zero2, one2)"
   ]
  },
  {
   "cell_type": "code",
   "execution_count": null,
   "metadata": {},
   "outputs": [],
   "source": []
  }
 ],
 "metadata": {
  "kernelspec": {
   "display_name": "Python 3",
   "language": "python",
   "name": "python3"
  },
  "language_info": {
   "codemirror_mode": {
    "name": "ipython",
    "version": 3
   },
   "file_extension": ".py",
   "mimetype": "text/x-python",
   "name": "python",
   "nbconvert_exporter": "python",
   "pygments_lexer": "ipython3",
   "version": "3.6.8"
  }
 },
 "nbformat": 4,
 "nbformat_minor": 2
}
